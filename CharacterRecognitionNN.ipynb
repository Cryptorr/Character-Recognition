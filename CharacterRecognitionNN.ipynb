{
 "cells": [
  {
   "cell_type": "code",
   "execution_count": 1,
   "metadata": {
    "collapsed": true
   },
   "outputs": [],
   "source": [
    "import numpy as np\n",
    "import chainer\n",
    "from chainer import cuda, Function, gradient_check, report, training, utils, Variable\n",
    "from chainer import datasets, iterators, optimizers, serializers\n",
    "from chainer import Link, Chain, ChainList\n",
    "import chainer.functions as F\n",
    "import chainer.links as L\n",
    "from chainer.training import extensions\n",
    "from chainer.dataset import concat_examples\n",
    "from chainer.cuda import to_cpu\n",
    "from chainer import serializers\n",
    "import matplotlib.pyplot as plt"
   ]
  },
  {
   "cell_type": "code",
   "execution_count": 2,
   "metadata": {
    "collapsed": true
   },
   "outputs": [],
   "source": [
    "class MLP(Chain):\n",
    "    def __init__(self, n_units, n_out):\n",
    "        super(MLP, self).__init__()\n",
    "        with self.init_scope():\n",
    "            # the size of the inputs to each layer will be inferred\n",
    "            self.l1 = L.Linear(None, n_units)  # n_in -> n_units\n",
    "            self.l2 = L.Linear(None, n_units)  # n_units -> n_units\n",
    "            self.l3 = L.Linear(None, n_out)    # n_units -> n_out\n",
    "\n",
    "    def __call__(self, x):\n",
    "        h1 = F.relu(self.l1(x))\n",
    "        h2 = F.relu(self.l2(h1))\n",
    "        y = self.l3(h2)\n",
    "        return y"
   ]
  },
  {
   "cell_type": "code",
   "execution_count": 3,
   "metadata": {
    "collapsed": true
   },
   "outputs": [],
   "source": [
    "model = MLP(n_units=10, n_out=10)  # the input size, 784, is inferred\n",
    "optimizer = optimizers.SGD()\n",
    "optimizer.setup(model)"
   ]
  },
  {
   "cell_type": "code",
   "execution_count": 4,
   "metadata": {
    "collapsed": true
   },
   "outputs": [],
   "source": [
    "max_epoch = 20\n",
    "batchsize = 32\n",
    "\n",
    "train, test = datasets.get_mnist()\n",
    "train_iter = iterators.SerialIterator(train, batchsize)\n",
    "test_iter = iterators.SerialIterator(test, batchsize, repeat=False, shuffle=False)"
   ]
  },
  {
   "cell_type": "code",
   "execution_count": 5,
   "metadata": {
    "collapsed": false
   },
   "outputs": [
    {
     "name": "stdout",
     "output_type": "stream",
     "text": [
      "epoch:01 train_loss:0.6152 val_loss:0.6352 val_accuracy:0.8061\n",
      "epoch:02 train_loss:0.4941 val_loss:0.4652 val_accuracy:0.8624\n",
      "epoch:03 train_loss:0.5614 val_loss:0.3896 val_accuracy:0.8874\n",
      "epoch:04 train_loss:0.3303 val_loss:0.3480 val_accuracy:0.9005\n",
      "epoch:05 train_loss:0.1152 val_loss:0.3246 val_accuracy:0.9050\n",
      "epoch:06 train_loss:0.2704 val_loss:0.3159 val_accuracy:0.9088\n",
      "epoch:07 train_loss:0.2071 val_loss:0.2992 val_accuracy:0.9136\n",
      "epoch:08 train_loss:0.1955 val_loss:0.2862 val_accuracy:0.9161\n",
      "epoch:09 train_loss:0.2916 val_loss:0.2908 val_accuracy:0.9138\n",
      "epoch:10 train_loss:0.1777 val_loss:0.2783 val_accuracy:0.9205\n",
      "epoch:11 train_loss:0.4051 val_loss:0.2713 val_accuracy:0.9223\n",
      "epoch:12 train_loss:0.0581 val_loss:0.2651 val_accuracy:0.9219\n",
      "epoch:13 train_loss:0.2233 val_loss:0.2613 val_accuracy:0.9234\n",
      "epoch:14 train_loss:0.1178 val_loss:0.2599 val_accuracy:0.9255\n",
      "epoch:15 train_loss:0.0955 val_loss:0.2617 val_accuracy:0.9248\n",
      "epoch:16 train_loss:0.1569 val_loss:0.2517 val_accuracy:0.9264\n",
      "epoch:17 train_loss:0.2694 val_loss:0.2444 val_accuracy:0.9295\n",
      "epoch:18 train_loss:0.1816 val_loss:0.2467 val_accuracy:0.9295\n",
      "epoch:19 train_loss:0.1682 val_loss:0.2415 val_accuracy:0.9300\n",
      "epoch:20 train_loss:0.0742 val_loss:0.2439 val_accuracy:0.9313\n"
     ]
    }
   ],
   "source": [
    "while train_iter.epoch < max_epoch:\n",
    "\n",
    "    # ---------- One iteration of the training loop ----------\n",
    "    train_batch = train_iter.next()\n",
    "    image_train, target_train = concat_examples(train_batch)\n",
    "\n",
    "    # Calculate the prediction of the network\n",
    "    prediction_train = model(image_train)\n",
    "\n",
    "    # Calculate the loss with softmax_cross_entropy\n",
    "    loss = F.softmax_cross_entropy(prediction_train, target_train)\n",
    "\n",
    "    # Calculate the gradients in the network\n",
    "    model.cleargrads()\n",
    "    loss.backward()\n",
    "\n",
    "    # Update all the trainable paremters\n",
    "    optimizer.update()\n",
    "    # --------------------- until here ---------------------\n",
    "\n",
    "    # Check the validation accuracy of prediction after every epoch\n",
    "    if train_iter.is_new_epoch:  # If this iteration is the final iteration of the current epoch\n",
    "\n",
    "        # Display the training loss\n",
    "        print('epoch:{:02d} train_loss:{:.04f} '.format(\n",
    "            train_iter.epoch, float(loss.data)), end='')\n",
    "\n",
    "        test_losses = []\n",
    "        test_accuracies = []\n",
    "        while True:\n",
    "            test_batch = test_iter.next()\n",
    "            image_test, target_test = concat_examples(test_batch)\n",
    "\n",
    "            # Forward the test data\n",
    "            prediction_test = model(image_test)\n",
    "\n",
    "            # Calculate the loss\n",
    "            loss_test = F.softmax_cross_entropy(prediction_test, target_test)\n",
    "            test_losses.append(to_cpu(loss_test.data))\n",
    "\n",
    "            # Calculate the accuracy\n",
    "            accuracy = F.accuracy(prediction_test, target_test)\n",
    "            accuracy.to_cpu()\n",
    "            test_accuracies.append(accuracy.data)\n",
    "\n",
    "            if test_iter.is_new_epoch:\n",
    "                test_iter.epoch = 0\n",
    "                test_iter.current_position = 0\n",
    "                test_iter.is_new_epoch = False\n",
    "                test_iter._pushed_position = None\n",
    "                break\n",
    "\n",
    "        print('val_loss:{:.04f} val_accuracy:{:.04f}'.format(\n",
    "            np.mean(test_losses), np.mean(test_accuracies)))"
   ]
  },
  {
   "cell_type": "code",
   "execution_count": 18,
   "metadata": {
    "collapsed": false
   },
   "outputs": [
    {
     "data": {
      "image/png": "[encoded data removed]",
      "text/plain": [
       "<matplotlib.figure.Figure at 0x22597e340b8>"
      ]
     },
     "metadata": {},
     "output_type": "display_data"
    },
    {
     "name": "stdout",
     "output_type": "stream",
     "text": [
      "label: 7\n",
      "predicted label: 7\n"
     ]
    }
   ],
   "source": [
    "x, t = test[0]\n",
    "plt.imshow(x.reshape(28, 28), cmap='gray')\n",
    "plt.show()\n",
    "print('label:', t)\n",
    "x = x[None, ...]\n",
    "\n",
    "# forward calculation of the model by sending X\n",
    "y = model(x)\n",
    "\n",
    "# The result is given as Variable, then we can take a look at the contents by the attribute, .data.\n",
    "y = y.data\n",
    "\n",
    "# Look up the most probable digit number using argmax\n",
    "pred_label = y.argmax(axis=1)\n",
    "\n",
    "print('predicted label:', pred_label[0])"
   ]
  },
  {
   "cell_type": "code",
   "execution_count": null,
   "metadata": {
    "collapsed": true
   },
   "outputs": [],
   "source": []
  }
 ],
 "metadata": {
  "kernelspec": {
   "display_name": "Python 3",
   "language": "python",
   "name": "python3"
  },
  "language_info": {
   "codemirror_mode": {
    "name": "ipython",
    "version": 3
   },
   "file_extension": ".py",
   "mimetype": "text/x-python",
   "name": "python",
   "nbconvert_exporter": "python",
   "pygments_lexer": "ipython3",
   "version": "3.6.0"
  }
 },
 "nbformat": 4,
 "nbformat_minor": 2
}
