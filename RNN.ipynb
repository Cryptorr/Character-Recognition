{
 "cells": [
  {
   "cell_type": "markdown",
   "metadata": {},
   "source": [
    "# Assignment 3"
   ]
  },
  {
   "cell_type": "markdown",
   "metadata": {},
   "source": [
    "Sven Den Hartog, s1003026 \n",
    "\n",
    "Denise Klep, s4210646"
   ]
  },
  {
   "cell_type": "code",
   "execution_count": 14,
   "metadata": {
    "collapsed": true
   },
   "outputs": [],
   "source": [
    "import numpy as np\n",
    "import chainer\n",
    "from chainer import cuda, Function, gradient_check, report, training, utils, Variable\n",
    "from chainer import datasets, iterators, optimizers, serializers\n",
    "from chainer import Link, Chain, ChainList\n",
    "import chainer.functions as F\n",
    "import chainer.links as L\n",
    "from chainer.training import extensions\n",
    "from chainer.dataset import concat_examples\n",
    "from chainer.datasets import TupleDataset\n",
    "from chainer.cuda import to_cpu\n",
    "from chainer import serializers\n",
    "import matplotlib.pyplot as plt\n",
    "import utils"
   ]
  },
  {
   "cell_type": "code",
   "execution_count": 15,
   "metadata": {
    "collapsed": true
   },
   "outputs": [],
   "source": [
    "# create toy data - compute sum of the previous and current input\n",
    "def create_data(n=3000):\n",
    "\n",
    "    X = np.random.rand(n,1).astype('float32')\n",
    "    T = np.sum(np.hstack((X[0:-1],X[1:])),axis=1)\n",
    "    T = np.hstack([0, T[0:]]).astype('float32')\n",
    "    T = T.reshape([n,1])\n",
    "    \n",
    "    #rescale the data such that it fits the LSTM input activation scale. \n",
    "    #Divide by two because the sum of two is taken and then the output value fits a similar scale.\n",
    "    X /= 2\n",
    "    T /= 2\n",
    "\n",
    "    return TupleDataset(X, T)"
   ]
  },
  {
   "cell_type": "code",
   "execution_count": 16,
   "metadata": {
    "collapsed": true
   },
   "outputs": [],
   "source": [
    "class RNN(Chain):\n",
    "    def __init__(self):\n",
    "        super(RNN, self).__init__()\n",
    "        with self.init_scope():\n",
    "            self.lstm = L.LSTM(None, 5)  # the first LSTM layer\n",
    "            self.out = L.Linear(None, 1)  # the feed-forward output layer\n",
    "\n",
    "    def reset_state(self):\n",
    "        self.lstm.reset_state()\n",
    "\n",
    "    def __call__(self, x):\n",
    "        h = self.lstm(x)\n",
    "        y = self.out(h)\n",
    "        return y"
   ]
  },
  {
   "cell_type": "code",
   "execution_count": 17,
   "metadata": {
    "collapsed": true
   },
   "outputs": [],
   "source": [
    "model = RNN()\n",
    "optimizer = optimizers.SGD()\n",
    "optimizer.setup(model)"
   ]
  },
  {
   "cell_type": "code",
   "execution_count": 23,
   "metadata": {
    "collapsed": true
   },
   "outputs": [],
   "source": [
    "mean_acc = [] \n",
    "mean_test_loss = [] \n",
    "mean_train_loss = []\n",
    "train_losses = []\n",
    "test_losses = []\n",
    "seqlen = 3000\n",
    "epoch = 0\n",
    "max_epoch = 20\n",
    "#batches = 3\n",
    "n_loss = 1\n",
    "trainset = np.array(create_data())\n",
    "testset = np.array(create_data())\n",
    "while epoch < max_epoch:\n",
    "    model.reset_state()\n",
    "    loss = 0\n",
    "    count = 0\n",
    "    for i,x in enumerate(trainset):\n",
    "        #print \"Training data:\" ,x\n",
    "        prediction = model(np.expand_dims(x[0],0))\n",
    "        #print \"Prediction:\", prediction\n",
    "        loss = ((loss*(n_loss-1))+((prediction) - (trainset[i,1,0]))**2)/n_loss\n",
    "        #loss += ((prediction) - trainset[i,1,0])**2\n",
    "        #print \"Pred shape:\", np.shape(prediction)\n",
    "        #print \"Train shape:\", np.shape(x[0])\n",
    "        #loss = F.mean_squared_error(prediction,x[0])\n",
    "        n_loss += 1\n",
    "        count += 1\n",
    "        if count % 30 == 0 or count == seqlen:\n",
    "            model.cleargrads() #renew gradient calculations\n",
    "            loss.backward() #runs error backpropagation\n",
    "            loss.unchain_backward()\n",
    "            n_loss = 1\n",
    "            optimizer.update() #update variables\n",
    "    #print(loss.data)\n",
    "    train_losses.append(loss.data[0,0])\n",
    "    #print np.shape(train_losses)\n",
    "    \n",
    "    #model.reset_state()\n",
    "    loss_test = 0\n",
    "    n_loss_test = 1\n",
    "    for i,x in enumerate(testset):\n",
    "        #print \"Test sample:\",x[0]\n",
    "        prediction_test = model(np.expand_dims(x[0],0))\n",
    "        #print \"Prediction:\",prediction_test\n",
    "        loss_test = ((loss_test*(n_loss_test-1))+((prediction_test) - (testset[i,1,0]))**2)/n_loss_test\n",
    "        n_loss_test += 1\n",
    "    #print(loss_test.data)\n",
    "    test_losses.append(loss_test.data[0,0])\n",
    "    epoch += 1"
   ]
  },
  {
   "cell_type": "code",
   "execution_count": 25,
   "metadata": {},
   "outputs": [
    {
     "data": {
      "image/png": "[encoded data removed]",
      "text/plain": [
       "<matplotlib.figure.Figure at 0x11b08c88>"
      ]
     },
     "metadata": {},
     "output_type": "display_data"
    }
   ],
   "source": [
    "#visualize results for training and test loss values over the epochs\n",
    "plt.xlabel('nr of epochs')\n",
    "plt.ylabel('mean squared loss')\n",
    "epochs = range(0,np.size(train_losses))\n",
    "plt.plot(epochs,train_losses,\n",
    "         label='training loss')\n",
    "plt.plot(epochs,test_losses,\n",
    "         label='test loss')\n",
    "plt.legend(loc='upper right')\n",
    "plt.title('RNN addition results')\n",
    "plt.show()"
   ]
  },
  {
   "cell_type": "code",
   "execution_count": null,
   "metadata": {
    "collapsed": true
   },
   "outputs": [],
   "source": []
  }
 ],
 "metadata": {
  "kernelspec": {
   "display_name": "Python 3",
   "language": "python",
   "name": "python3"
  },
  "language_info": {
   "codemirror_mode": {
    "name": "ipython",
    "version": 3
   },
   "file_extension": ".py",
   "mimetype": "text/x-python",
   "name": "python",
   "nbconvert_exporter": "python",
   "pygments_lexer": "ipython3",
   "version": "3.6.2"
  }
 },
 "nbformat": 4,
 "nbformat_minor": 2
}
