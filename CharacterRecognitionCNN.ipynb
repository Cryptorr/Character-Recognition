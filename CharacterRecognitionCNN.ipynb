{
 "cells": [
  {
   "cell_type": "markdown",
   "metadata": {},
   "source": [
    "# Assignment 2"
   ]
  },
  {
   "cell_type": "markdown",
   "metadata": {},
   "source": [
    "Sven Den Hartog, s1003026 \n",
    "\n",
    "Denise Klep, s4210646"
   ]
  },
  {
   "cell_type": "code",
   "execution_count": 1,
   "metadata": {
    "collapsed": true
   },
   "outputs": [],
   "source": [
    "import numpy as np\n",
    "import chainer\n",
    "from chainer import cuda, Function, gradient_check, report, training, utils, Variable\n",
    "from chainer import datasets, iterators, optimizers, serializers\n",
    "from chainer import Link, Chain, ChainList\n",
    "import chainer.functions as F\n",
    "import chainer.links as L\n",
    "from chainer.training import extensions\n",
    "from chainer.dataset import concat_examples\n",
    "from chainer.cuda import to_cpu\n",
    "from chainer import serializers\n",
    "import matplotlib.pyplot as plt\n",
    "import utils"
   ]
  },
  {
   "cell_type": "markdown",
   "metadata": {},
   "source": [
    "# 1"
   ]
  },
  {
   "cell_type": "code",
   "execution_count": 5,
   "metadata": {
    "collapsed": true
   },
   "outputs": [],
   "source": [
    "max_epoch = 20\n",
    "batchsize = 32\n",
    "\n",
    "train, test = utils.get_mnist(n_train=100, n_test=100)\n",
    "optimizer = optimizers.SGD()"
   ]
  },
  {
   "cell_type": "markdown",
   "metadata": {},
   "source": [
    "We use the same parameters as the previous assignment but we will train three MLPs with 1, 2 and 3 layers."
   ]
  },
  {
   "cell_type": "code",
   "execution_count": 8,
   "metadata": {
    "collapsed": true
   },
   "outputs": [],
   "source": [
    "class MLP1(Chain):\n",
    "    def __init__(self, n_units, n_out):\n",
    "        super(MLP1, self).__init__()\n",
    "        with self.init_scope():\n",
    "            self.l1 = L.Linear(None, n_out)\n",
    "\n",
    "    def __call__(self, x):\n",
    "        y = F.relu(self.l1(x))\n",
    "        return y\n",
    "    \n",
    "class MLP2(Chain):\n",
    "    def __init__(self, n_units, n_out):\n",
    "        super(MLP2, self).__init__()\n",
    "        with self.init_scope():\n",
    "            self.l1 = L.Linear(None, n_units)\n",
    "            self.l2 = L.Linear(None, n_out)\n",
    "\n",
    "    def __call__(self, x):\n",
    "        h = F.relu(self.l1(x))\n",
    "        y = self.l2(h)\n",
    "        return y\n",
    "    \n",
    "class MLP3(Chain):\n",
    "    def __init__(self, n_units, n_out):\n",
    "        super(MLP3, self).__init__()\n",
    "        with self.init_scope():\n",
    "            self.l1 = L.Linear(None, n_units)\n",
    "            self.l2 = L.Linear(None, n_units)\n",
    "            self.l3 = L.Linear(None, n_out)\n",
    "\n",
    "    def __call__(self, x):\n",
    "        h = F.relu(self.l1(x))\n",
    "        h = F.relu(self.l2(h))\n",
    "        y = self.l3(h)\n",
    "        return y"
   ]
  },
  {
   "cell_type": "code",
   "execution_count": 12,
   "metadata": {
    "collapsed": false
   },
   "outputs": [],
   "source": [
    "model = MLP1(n_units=10, n_out=10)\n",
    "optimizer.setup(model)\n",
    "train_iter = iterators.SerialIterator(train, batchsize)\n",
    "test_iter = iterators.SerialIterator(test, batchsize, repeat=False, shuffle=False)\n",
    "mean_test_loss1 = [] \n",
    "mean_train_loss1 = []\n",
    "train_losses = []\n",
    "while train_iter.epoch < max_epoch:\n",
    "\n",
    "    train_batch = train_iter.next()\n",
    "    image_train, target_train = concat_examples(train_batch)\n",
    "    prediction_train = model(image_train)\n",
    "    loss = F.softmax_cross_entropy(prediction_train, target_train)\n",
    "    train_losses1.append(loss.data)\n",
    "    model.cleargrads()\n",
    "    loss.backward()\n",
    "    optimizer.update()\n",
    "    \n",
    "    if train_iter.is_new_epoch:\n",
    "        test_losses = []\n",
    "        while True:\n",
    "            test_batch = test_iter.next()\n",
    "            image_test, target_test = concat_examples(test_batch) \n",
    "            prediction_test = model(image_test)\n",
    "            loss_test = F.softmax_cross_entropy(prediction_test, target_test)\n",
    "            test_losses.append(to_cpu(loss_test.data))\n",
    "            accuracy = F.accuracy(prediction_test, target_test)\n",
    "            accuracy.to_cpu()\n",
    "\n",
    "            if test_iter.is_new_epoch:\n",
    "                test_iter.epoch = 0\n",
    "                test_iter.current_position = 0\n",
    "                test_iter.is_new_epoch = False\n",
    "                test_iter._pushed_position = None\n",
    "                break\n",
    "        mean_test_loss1.append(np.mean(test_losses))\n",
    "        mean_train_loss1.append(np.mean(train_losses1))\n",
    "        train_losses = []"
   ]
  },
  {
   "cell_type": "code",
   "execution_count": 15,
   "metadata": {
    "collapsed": false
   },
   "outputs": [],
   "source": [
    "model = MLP2(n_units=10, n_out=10)\n",
    "optimizer.setup(model)\n",
    "train_iter = iterators.SerialIterator(train, batchsize)\n",
    "test_iter = iterators.SerialIterator(test, batchsize, repeat=False, shuffle=False)\n",
    "mean_test_loss2 = [] \n",
    "mean_train_loss2 = []\n",
    "train_losses = []\n",
    "while train_iter.epoch < max_epoch:\n",
    "\n",
    "    train_batch = train_iter.next()\n",
    "    image_train, target_train = concat_examples(train_batch)\n",
    "    prediction_train = model(image_train)\n",
    "    loss = F.softmax_cross_entropy(prediction_train, target_train)\n",
    "    train_losses.append(loss.data)\n",
    "    model.cleargrads()\n",
    "    loss.backward()\n",
    "    optimizer.update()\n",
    "    \n",
    "    if train_iter.is_new_epoch:\n",
    "        test_losses = []\n",
    "        while True:\n",
    "            test_batch = test_iter.next()\n",
    "            image_test, target_test = concat_examples(test_batch) \n",
    "            prediction_test = model(image_test)\n",
    "            loss_test = F.softmax_cross_entropy(prediction_test, target_test)\n",
    "            test_losses.append(to_cpu(loss_test.data))\n",
    "            accuracy = F.accuracy(prediction_test, target_test)\n",
    "            accuracy.to_cpu()\n",
    "\n",
    "            if test_iter.is_new_epoch:\n",
    "                test_iter.epoch = 0\n",
    "                test_iter.current_position = 0\n",
    "                test_iter.is_new_epoch = False\n",
    "                test_iter._pushed_position = None\n",
    "                break\n",
    "        mean_test_loss2.append(np.mean(test_losses))\n",
    "        mean_train_loss2.append(np.mean(train_losses))\n",
    "        train_losses = []"
   ]
  },
  {
   "cell_type": "code",
   "execution_count": 16,
   "metadata": {
    "collapsed": false
   },
   "outputs": [],
   "source": [
    "model = MLP3(n_units=10, n_out=10)\n",
    "optimizer.setup(model)\n",
    "train_iter = iterators.SerialIterator(train, batchsize)\n",
    "test_iter = iterators.SerialIterator(test, batchsize, repeat=False, shuffle=False)\n",
    "mean_test_loss3 = [] \n",
    "mean_train_loss3 = []\n",
    "train_losses = []\n",
    "while train_iter.epoch < max_epoch:\n",
    "\n",
    "    train_batch = train_iter.next()\n",
    "    image_train, target_train = concat_examples(train_batch)\n",
    "    prediction_train = model(image_train)\n",
    "    loss = F.softmax_cross_entropy(prediction_train, target_train)\n",
    "    train_losses.append(loss.data)\n",
    "    model.cleargrads()\n",
    "    loss.backward()\n",
    "    optimizer.update()\n",
    "    \n",
    "    if train_iter.is_new_epoch:\n",
    "        test_losses = []\n",
    "        while True:\n",
    "            test_batch = test_iter.next()\n",
    "            image_test, target_test = concat_examples(test_batch) \n",
    "            prediction_test = model(image_test)\n",
    "            loss_test = F.softmax_cross_entropy(prediction_test, target_test)\n",
    "            test_losses.append(to_cpu(loss_test.data))\n",
    "            accuracy = F.accuracy(prediction_test, target_test)\n",
    "            accuracy.to_cpu()\n",
    "\n",
    "            if test_iter.is_new_epoch:\n",
    "                test_iter.epoch = 0\n",
    "                test_iter.current_position = 0\n",
    "                test_iter.is_new_epoch = False\n",
    "                test_iter._pushed_position = None\n",
    "                break\n",
    "        mean_test_loss3.append(np.mean(test_losses))\n",
    "        mean_train_loss3.append(np.mean(train_losses))\n",
    "        train_losses = []"
   ]
  },
  {
   "cell_type": "markdown",
   "metadata": {},
   "source": [
    "Here we train all 3 MLPs and save the losses separately."
   ]
  },
  {
   "cell_type": "code",
   "execution_count": 19,
   "metadata": {
    "collapsed": false
   },
   "outputs": [
    {
     "data": {
      "image/png": "[encoded data removed]",
      "text/plain": [
       "<matplotlib.figure.Figure at 0x174bd895ac8>"
      ]
     },
     "metadata": {},
     "output_type": "display_data"
    }
   ],
   "source": [
    "plt.xlabel('nr of epochs')\n",
    "plt.ylabel('loss')\n",
    "epochs = range(0,np.size(mean_train_loss1))\n",
    "plt.plot(epochs,mean_train_loss1,\n",
    "         label='training loss 1 hidden layer')\n",
    "plt.plot(epochs,mean_train_loss2,\n",
    "         label='training loss 2 hidden layers')\n",
    "plt.plot(epochs,mean_train_loss3,\n",
    "         label='training loss 3 hidden layers')\n",
    "plt.legend(loc='upper right')\n",
    "plt.title('MLP MNIST classification results')\n",
    "plt.show()"
   ]
  },
  {
   "cell_type": "code",
   "execution_count": 20,
   "metadata": {
    "collapsed": false
   },
   "outputs": [
    {
     "data": {
      "image/png": "[encoded data removed]",
      "text/plain": [
       "<matplotlib.figure.Figure at 0x174bd9ecf60>"
      ]
     },
     "metadata": {},
     "output_type": "display_data"
    }
   ],
   "source": [
    "plt.xlabel('nr of epochs')\n",
    "plt.ylabel('loss')\n",
    "epochs = range(0,np.size(mean_train_loss1))\n",
    "plt.plot(epochs,mean_test_loss1,\n",
    "         label='test loss 1 hidden layer')\n",
    "plt.plot(epochs,mean_test_loss2,\n",
    "         label='test loss 2 hidden layers')\n",
    "plt.plot(epochs,mean_test_loss3,\n",
    "         label='test loss 3 hidden layers')\n",
    "plt.legend(loc='upper right')\n",
    "plt.title('MLP MNIST classification results')\n",
    "plt.show()"
   ]
  },
  {
   "cell_type": "markdown",
   "metadata": {},
   "source": [
    "# 2"
   ]
  },
  {
   "cell_type": "code",
   "execution_count": 21,
   "metadata": {
    "collapsed": true
   },
   "outputs": [],
   "source": [
    "class Conv(Chain):\n",
    "    def __init__(self, n_out):\n",
    "        super(Conv, self).__init__()\n",
    "        with self.init_scope():\n",
    "            self.conv = L.Convolution2D(\n",
    "                in_channels=1, out_channels=5, ksize=5, stride=1, pad=0)\n",
    "            self.fc = L.Linear(None, n_out)\n",
    "\n",
    "    def __call__(self, x):\n",
    "        h = F.sigmoid(self.conv(x))\n",
    "        h = F.max_pooling_2d(h, 2, 2)\n",
    "        if chainer.config.train:\n",
    "            return self.fc(h)\n",
    "        return F.softmax(self.fc(h))"
   ]
  },
  {
   "cell_type": "code",
   "execution_count": 22,
   "metadata": {
    "collapsed": false
   },
   "outputs": [],
   "source": [
    "model = Conv(n_out=10)\n",
    "optimizer = optimizers.SGD()\n",
    "optimizer.setup(model)\n",
    "\n",
    "max_epoch = 20\n",
    "batchsize = 32\n",
    "\n",
    "train, test = utils.get_mnist(n_train=100, n_test=100, n_dim=2)\n",
    "train_iter = iterators.SerialIterator(train, batchsize)\n",
    "test_iter = iterators.SerialIterator(test, batchsize, repeat=False, shuffle=False)\n",
    "mean_acc = []\n",
    "mean_test_loss = []\n",
    "mean_train_loss = []\n",
    "train_losses = []"
   ]
  },
  {
   "cell_type": "code",
   "execution_count": 23,
   "metadata": {
    "collapsed": false
   },
   "outputs": [],
   "source": [
    "while train_iter.epoch < max_epoch:\n",
    "\n",
    "    train_batch = train_iter.next()\n",
    "    image_train, target_train = concat_examples(train_batch)\n",
    "    #batch conversion function to change batch into image and target arrays suitable for the network\n",
    "    image_train = np.expand_dims(image_train, axis=1)\n",
    "    prediction_train = model(image_train)\n",
    "\n",
    "    loss = F.softmax_cross_entropy(prediction_train, target_train)\n",
    "    train_losses.append(loss.data)\n",
    "\n",
    "    model.cleargrads() #renew gradient calculations\n",
    "    loss.backward() #runs error backpropagation\n",
    "\n",
    "    optimizer.update() #update variables\n",
    "    if train_iter.is_new_epoch:\n",
    "\n",
    "        test_losses = []\n",
    "        test_accuracies = []\n",
    "        while True:\n",
    "            test_batch = test_iter.next()\n",
    "            image_test, target_test = concat_examples(test_batch) \n",
    "            image_test = np.expand_dims(image_test, axis=1)\n",
    "            prediction_test = model(image_test)\n",
    "\n",
    "            loss_test = F.softmax_cross_entropy(prediction_test, target_test)\n",
    "            test_losses.append(to_cpu(loss_test.data))\n",
    "\n",
    "            accuracy = F.accuracy(prediction_test, target_test)\n",
    "            accuracy.to_cpu()\n",
    "            test_accuracies.append(accuracy.data)\n",
    "\n",
    "            if test_iter.is_new_epoch:\n",
    "                test_iter.epoch = 0\n",
    "                test_iter.current_position = 0\n",
    "                test_iter.is_new_epoch = False\n",
    "                test_iter._pushed_position = None\n",
    "                break\n",
    "                #get out of test loop if test epoch completed\n",
    "\n",
    "        mean_acc.append(np.mean(test_accuracies))\n",
    "        mean_test_loss.append(np.mean(test_losses))\n",
    "        mean_train_loss.append(np.mean(train_losses))\n",
    "        #track mean losses for visualization later\n",
    "        train_losses = []"
   ]
  },
  {
   "cell_type": "code",
   "execution_count": 24,
   "metadata": {
    "collapsed": false
   },
   "outputs": [
    {
     "data": {
      "image/png": "[encoded data removed]",
      "text/plain": [
       "<matplotlib.figure.Figure at 0x174bd9bfac8>"
      ]
     },
     "metadata": {},
     "output_type": "display_data"
    }
   ],
   "source": [
    "#visualize results for training and test loss values over the epochs\n",
    "plt.xlabel('nr of epochs')\n",
    "plt.ylabel('loss')\n",
    "epochs = range(0,np.size(mean_acc))\n",
    "plt.plot(epochs,mean_train_loss,\n",
    "         label='training loss')\n",
    "plt.plot(epochs,mean_test_loss,\n",
    "         label='test loss')\n",
    "plt.legend(loc='upper right')\n",
    "plt.title('CNN MNIST classification results')\n",
    "plt.show()"
   ]
  },
  {
   "cell_type": "code",
   "execution_count": 27,
   "metadata": {
    "collapsed": false
   },
   "outputs": [
    {
     "data": {
      "image/png": "[encoded data removed]",
      "text/plain": [
       "<matplotlib.figure.Figure at 0x174be03bb00>"
      ]
     },
     "metadata": {},
     "output_type": "display_data"
    },
    {
     "name": "stdout",
     "output_type": "stream",
     "text": [
      "label: 0\n",
      "predicted label: 0\n"
     ]
    }
   ],
   "source": [
    "x, t = test[0]\n",
    "plt.imshow(x.reshape(28, 28), cmap='gray')\n",
    "plt.show()\n",
    "print('label:', t)\n",
    "x = x[None, ...]\n",
    "x = np.expand_dims(x, axis=1)\n",
    "y = model(x)\n",
    "y = y.data\n",
    "\n",
    "pred_label = y.argmax(axis=1)\n",
    "print('predicted label:', pred_label[0])"
   ]
  },
  {
   "cell_type": "code",
   "execution_count": 26,
   "metadata": {
    "collapsed": false
   },
   "outputs": [
    {
     "name": "stdout",
     "output_type": "stream",
     "text": [
      "[0.1015625, 0.094726563, 0.12890625, 0.16601563, 0.16113281, 0.32519531, 0.29296875, 0.42382813, 0.33398438, 0.43066406, 0.40722656, 0.42773438, 0.46679688, 0.50585938, 0.57617188, 0.59863281, 0.58984375, 0.63378906, 0.59082031, 0.67382813]\n"
     ]
    }
   ],
   "source": [
    "print(mean_acc)"
   ]
  },
  {
   "cell_type": "markdown",
   "metadata": {},
   "source": []
  },
  {
   "cell_type": "code",
   "execution_count": 242,
   "metadata": {
    "collapsed": false
   },
   "outputs": [],
   "source": [
    "class Conv2(Chain):\n",
    "    def __init__(self, n_out):\n",
    "        super(Conv2, self).__init__()\n",
    "        with self.init_scope():\n",
    "            self.conv = L.Convolution2D(\n",
    "                in_channels=1, out_channels=5, ksize=5, stride=1, pad=0)\n",
    "            self.fc1 = L.SimplifiedDropconnect(None, n_out, ratio=0.1)\n",
    "\n",
    "    def __call__(self, x):\n",
    "        h = F.relu(self.conv(x))\n",
    "        h = F.max_pooling_2d(h, 2, 2)\n",
    "        if chainer.config.train:\n",
    "            return F.relu(self.fc1(h))\n",
    "        return F.softmax(self.fc(h))"
   ]
  },
  {
   "cell_type": "code",
   "execution_count": 243,
   "metadata": {
    "collapsed": false
   },
   "outputs": [],
   "source": [
    "model = Conv2(n_out=10)\n",
    "optimizer = optimizers.SGD()\n",
    "optimizer.setup(model)\n",
    "\n",
    "max_epoch = 20\n",
    "batchsize = 32\n",
    "\n",
    "train, test = utils.get_mnist(n_train=100, n_test=100, n_dim=2)\n",
    "train_iter = iterators.SerialIterator(train, batchsize)\n",
    "test_iter = iterators.SerialIterator(test, batchsize, repeat=False, shuffle=False)\n",
    "mean_acc = []\n",
    "mean_test_loss = []\n",
    "mean_train_loss = []\n",
    "train_losses = []\n",
    "\n",
    "while train_iter.epoch < max_epoch:\n",
    "\n",
    "    train_batch = train_iter.next()\n",
    "    image_train, target_train = concat_examples(train_batch)\n",
    "    #batch conversion function to change batch into image and target arrays suitable for the network\n",
    "    image_train = np.expand_dims(image_train, axis=1)\n",
    "    prediction_train = model(image_train)\n",
    "\n",
    "    loss = F.softmax_cross_entropy(prediction_train, target_train)\n",
    "    train_losses.append(loss.data)\n",
    "\n",
    "    model.cleargrads() #renew gradient calculations\n",
    "    loss.backward() #runs error backpropagation\n",
    "\n",
    "    optimizer.update() #update variables\n",
    "    if train_iter.is_new_epoch:\n",
    "\n",
    "        test_losses = []\n",
    "        test_accuracies = []\n",
    "        while True:\n",
    "            test_batch = test_iter.next()\n",
    "            image_test, target_test = concat_examples(test_batch) \n",
    "            image_test = np.expand_dims(image_test, axis=1)\n",
    "            prediction_test = model(image_test)\n",
    "\n",
    "            loss_test = F.softmax_cross_entropy(prediction_test, target_test)\n",
    "            test_losses.append(to_cpu(loss_test.data))\n",
    "\n",
    "            accuracy = F.accuracy(prediction_test, target_test)\n",
    "            accuracy.to_cpu()\n",
    "            test_accuracies.append(accuracy.data)\n",
    "\n",
    "            if test_iter.is_new_epoch:\n",
    "                test_iter.epoch = 0\n",
    "                test_iter.current_position = 0\n",
    "                test_iter.is_new_epoch = False\n",
    "                test_iter._pushed_position = None\n",
    "                break\n",
    "                #get out of test loop if test epoch completed\n",
    "\n",
    "        mean_acc.append(np.mean(test_accuracies))\n",
    "        mean_test_loss.append(np.mean(test_losses))\n",
    "        mean_train_loss.append(np.mean(train_losses))\n",
    "        #track mean losses for visualization later\n",
    "        train_losses = []"
   ]
  },
  {
   "cell_type": "code",
   "execution_count": 244,
   "metadata": {
    "collapsed": false
   },
   "outputs": [
    {
     "data": {
      "image/png": "[encoded data removed]",
      "text/plain": [
       "<matplotlib.figure.Figure at 0x1c90da9fc50>"
      ]
     },
     "metadata": {},
     "output_type": "display_data"
    }
   ],
   "source": [
    "plt.xlabel('nr of epochs')\n",
    "plt.ylabel('loss')\n",
    "epochs = range(0,np.size(mean_acc))\n",
    "plt.plot(epochs,mean_train_loss,\n",
    "         label='training loss')\n",
    "plt.plot(epochs,mean_test_loss,\n",
    "         label='test loss')\n",
    "plt.legend(loc='upper right')\n",
    "plt.title('MLP MNIST classification results')\n",
    "plt.show()"
   ]
  },
  {
   "cell_type": "code",
   "execution_count": 28,
   "metadata": {
    "collapsed": false
   },
   "outputs": [
    {
     "data": {
      "image/png": "[encoded data removed]",
      "text/plain": [
       "<matplotlib.figure.Figure at 0x174be12b080>"
      ]
     },
     "metadata": {},
     "output_type": "display_data"
    },
    {
     "name": "stdout",
     "output_type": "stream",
     "text": [
      "label: 0\n",
      "predicted label: 0\n"
     ]
    }
   ],
   "source": [
    "x, t = test[0]\n",
    "plt.imshow(x.reshape(28, 28), cmap='gray')\n",
    "plt.show()\n",
    "print('label:', t)\n",
    "x = x[None, ...]\n",
    "x = np.expand_dims(x, axis=1)\n",
    "y = model(x)\n",
    "y = y.data\n",
    "\n",
    "pred_label = y.argmax(axis=1)\n",
    "print('predicted label:', pred_label[0])"
   ]
  },
  {
   "cell_type": "code",
   "execution_count": 246,
   "metadata": {
    "collapsed": false
   },
   "outputs": [
    {
     "name": "stdout",
     "output_type": "stream",
     "text": [
      "[0.17089844, 0.22167969, 0.29003906, 0.38378906, 0.4453125, 0.53027344, 0.60449219, 0.65429688, 0.67773438, 0.66796875, 0.69042969, 0.72363281, 0.77539063, 0.79492188, 0.80273438, 0.79589844, 0.79785156, 0.79492188, 0.80664063, 0.82519531]\n"
     ]
    }
   ],
   "source": [
    "print(mean_acc)"
   ]
  },
  {
   "cell_type": "code",
   "execution_count": null,
   "metadata": {
    "collapsed": true
   },
   "outputs": [],
   "source": []
  }
 ],
 "metadata": {
  "kernelspec": {
   "display_name": "Python 3",
   "language": "python",
   "name": "python3"
  },
  "language_info": {
   "codemirror_mode": {
    "name": "ipython",
    "version": 3
   },
   "file_extension": ".py",
   "mimetype": "text/x-python",
   "name": "python",
   "nbconvert_exporter": "python",
   "pygments_lexer": "ipython3",
   "version": "3.6.0"
  }
 },
 "nbformat": 4,
 "nbformat_minor": 2
}
