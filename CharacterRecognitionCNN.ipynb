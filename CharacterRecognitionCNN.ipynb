{
 "cells": [
  {
   "cell_type": "markdown",
   "metadata": {},
   "source": [
    "# Assignment 2"
   ]
  },
  {
   "cell_type": "code",
   "execution_count": 1,
   "metadata": {
    "collapsed": true
   },
   "outputs": [],
   "source": [
    "import numpy as np\n",
    "import chainer\n",
    "from chainer import cuda, Function, gradient_check, report, training, utils, Variable\n",
    "from chainer import datasets, iterators, optimizers, serializers\n",
    "from chainer import Link, Chain, ChainList\n",
    "import chainer.functions as F\n",
    "import chainer.links as L\n",
    "from chainer.training import extensions\n",
    "from chainer.dataset import concat_examples\n",
    "from chainer.cuda import to_cpu\n",
    "from chainer import serializers\n",
    "import matplotlib.pyplot as plt\n",
    "import utils"
   ]
  },
  {
   "cell_type": "code",
   "execution_count": 300,
   "metadata": {
    "collapsed": true
   },
   "outputs": [],
   "source": [
    "class MLP1(Chain):\n",
    "    def __init__(self, n_units, n_out):\n",
    "        super(MLP1, self).__init__()\n",
    "        with self.init_scope():\n",
    "            self.l1 = L.Linear(None, n_units)\n",
    "            self.l2 = L.Linear(None, n_out)\n",
    "\n",
    "    def __call__(self, x):\n",
    "        h1 = F.relu(self.l1(x))\n",
    "        y = self.l2(h1)\n",
    "        return y\n",
    "    \n",
    "class MLP2(Chain):\n",
    "    def __init__(self, n_units, n_out):\n",
    "        super(MLP2, self).__init__()\n",
    "        with self.init_scope():\n",
    "            self.l1 = L.Linear(None, n_units)\n",
    "            self.l2 = L.Linear(None, n_units)\n",
    "            self.l3 = L.Linear(None, n_out)\n",
    "\n",
    "    def __call__(self, x):\n",
    "        h1 = F.relu(self.l1(x))\n",
    "        h2 = F.relu(self.l2(h1))\n",
    "        y = self.l3(h2)\n",
    "        return y\n",
    "    \n",
    "class MLP3(Chain):\n",
    "    def __init__(self, n_units, n_out):\n",
    "        super(MLP3, self).__init__()\n",
    "        with self.init_scope():\n",
    "            self.l1 = L.Linear(None, n_units)\n",
    "            self.l2 = L.Linear(None, n_units)\n",
    "            self.l3 = L.Linear(None, n_units)\n",
    "            self.l4 = L.Linear(None, n_out)\n",
    "\n",
    "    def __call__(self, x):\n",
    "        h1 = F.relu(self.l1(x))\n",
    "        h2 = F.relu(self.l2(h1))\n",
    "        h3 = F.relu(self.l3(h2))\n",
    "        y = self.l4(h3)\n",
    "        return y"
   ]
  },
  {
   "cell_type": "code",
   "execution_count": 301,
   "metadata": {
    "collapsed": true
   },
   "outputs": [],
   "source": [
    "max_epoch = 20\n",
    "batchsize = 32\n",
    "\n",
    "train, test = utils.get_mnist(n_train=100, n_test=100)"
   ]
  },
  {
   "cell_type": "code",
   "execution_count": 302,
   "metadata": {
    "collapsed": false
   },
   "outputs": [
    {
     "data": {
      "image/png": "[encoded data removed]",
      "text/plain": [
       "<matplotlib.figure.Figure at 0x1c90d29acc0>"
      ]
     },
     "metadata": {},
     "output_type": "display_data"
    }
   ],
   "source": [
    "model = MLP1(n_units=10, n_out=10)\n",
    "optimizer = optimizers.SGD()\n",
    "optimizer.setup(model)\n",
    "\n",
    "train_iter = iterators.SerialIterator(train, batchsize)\n",
    "test_iter = iterators.SerialIterator(test, batchsize, repeat=False, shuffle=False)\n",
    "mean_acc = [] \n",
    "mean_test_loss1 = [] \n",
    "mean_train_loss1 = []\n",
    "train_losses = []\n",
    "while train_iter.epoch < max_epoch:\n",
    "\n",
    "    train_batch = train_iter.next()\n",
    "    image_train, target_train = concat_examples(train_batch)\n",
    "\n",
    "    prediction_train = model(image_train)\n",
    "\n",
    "    loss = F.softmax_cross_entropy(prediction_train, target_train)\n",
    "    train_losses.append(loss.data)\n",
    "\n",
    "    model.cleargrads()\n",
    "    loss.backward()\n",
    "\n",
    "    optimizer.update()\n",
    "    if train_iter.is_new_epoch:\n",
    "\n",
    "        test_losses = []\n",
    "        test_accuracies = []\n",
    "        while True:\n",
    "            test_batch = test_iter.next()\n",
    "            image_test, target_test = concat_examples(test_batch) \n",
    "\n",
    "            prediction_test = model(image_test)\n",
    "\n",
    "            loss_test = F.softmax_cross_entropy(prediction_test, target_test)\n",
    "            test_losses.append(to_cpu(loss_test.data))\n",
    "\n",
    "            accuracy = F.accuracy(prediction_test, target_test)\n",
    "            accuracy.to_cpu()\n",
    "            test_accuracies.append(accuracy.data)\n",
    "\n",
    "            if test_iter.is_new_epoch:\n",
    "                test_iter.epoch = 0\n",
    "                test_iter.current_position = 0\n",
    "                test_iter.is_new_epoch = False\n",
    "                test_iter._pushed_position = None\n",
    "                break\n",
    "\n",
    "        mean_acc.append(np.mean(test_accuracies))\n",
    "        mean_test_loss.append(np.mean(test_losses))\n",
    "        mean_train_loss.append(np.mean(train_losses))\n",
    "        train_losses = []\n",
    "\n",
    "plt.xlabel('nr of epochs')\n",
    "plt.ylabel('loss')\n",
    "epochs = range(0,np.size(mean_train_loss))\n",
    "plt.plot(epochs,mean_train_loss,\n",
    "         label='training loss')\n",
    "plt.plot(epochs,mean_test_loss,\n",
    "         label='test loss')\n",
    "plt.legend(loc='upper right')\n",
    "plt.title('1 Layer MNIST classification results')\n",
    "plt.show()"
   ]
  },
  {
   "cell_type": "code",
   "execution_count": 303,
   "metadata": {
    "collapsed": false
   },
   "outputs": [
    {
     "data": {
      "image/png": "[encoded data removed]",
      "text/plain": [
       "<matplotlib.figure.Figure at 0x1c90de04358>"
      ]
     },
     "metadata": {},
     "output_type": "display_data"
    }
   ],
   "source": [
    "model = MLP2(n_units=10, n_out=10)\n",
    "optimizer = optimizers.SGD()\n",
    "optimizer.setup(model)\n",
    "train_iter = iterators.SerialIterator(train, batchsize)\n",
    "test_iter = iterators.SerialIterator(test, batchsize, repeat=False, shuffle=False)\n",
    "mean_acc = [] \n",
    "mean_test_loss = [] \n",
    "mean_train_loss = []\n",
    "train_losses = []\n",
    "while train_iter.epoch < max_epoch:\n",
    "\n",
    "    train_batch = train_iter.next()\n",
    "    image_train, target_train = concat_examples(train_batch)\n",
    "\n",
    "    prediction_train = model(image_train)\n",
    "\n",
    "    loss = F.softmax_cross_entropy(prediction_train, target_train)\n",
    "    train_losses.append(loss.data)\n",
    "\n",
    "    model.cleargrads()\n",
    "    loss.backward()\n",
    "\n",
    "    optimizer.update()\n",
    "    if train_iter.is_new_epoch:\n",
    "\n",
    "        test_losses = []\n",
    "        test_accuracies = []\n",
    "        while True:\n",
    "            test_batch = test_iter.next()\n",
    "            image_test, target_test = concat_examples(test_batch) \n",
    "\n",
    "            prediction_test = model(image_test)\n",
    "\n",
    "            loss_test = F.softmax_cross_entropy(prediction_test, target_test)\n",
    "            test_losses.append(to_cpu(loss_test.data))\n",
    "\n",
    "            accuracy = F.accuracy(prediction_test, target_test)\n",
    "            accuracy.to_cpu()\n",
    "            test_accuracies.append(accuracy.data)\n",
    "\n",
    "            if test_iter.is_new_epoch:\n",
    "                test_iter.epoch = 0\n",
    "                test_iter.current_position = 0\n",
    "                test_iter.is_new_epoch = False\n",
    "                test_iter._pushed_position = None\n",
    "                break\n",
    "\n",
    "        mean_acc.append(np.mean(test_accuracies))\n",
    "        mean_test_loss.append(np.mean(test_losses))\n",
    "        mean_train_loss.append(np.mean(train_losses))\n",
    "        train_losses = []\n",
    "\n",
    "plt.xlabel('nr of epochs')\n",
    "plt.ylabel('loss')\n",
    "epochs = range(0,np.size(mean_acc))\n",
    "plt.plot(epochs,mean_train_loss,\n",
    "         label='training loss')\n",
    "plt.plot(epochs,mean_test_loss,\n",
    "         label='test loss')\n",
    "plt.legend(loc='upper right')\n",
    "plt.title('2 Layer MNIST classification results')\n",
    "plt.show()"
   ]
  },
  {
   "cell_type": "code",
   "execution_count": 304,
   "metadata": {
    "collapsed": false
   },
   "outputs": [
    {
     "data": {
      "image/png": "[encoded data removed]",
      "text/plain": [
       "<matplotlib.figure.Figure at 0x1c90d2c6dd8>"
      ]
     },
     "metadata": {},
     "output_type": "display_data"
    }
   ],
   "source": [
    "model = MLP3(n_units=10, n_out=10)\n",
    "optimizer = optimizers.SGD()\n",
    "optimizer.setup(model)\n",
    "train_iter = iterators.SerialIterator(train, batchsize)\n",
    "test_iter = iterators.SerialIterator(test, batchsize, repeat=False, shuffle=False)\n",
    "mean_acc = [] \n",
    "mean_test_loss = [] \n",
    "mean_train_loss = []\n",
    "train_losses = []\n",
    "while train_iter.epoch < max_epoch:\n",
    "\n",
    "    train_batch = train_iter.next()\n",
    "    image_train, target_train = concat_examples(train_batch)\n",
    "\n",
    "    prediction_train = model(image_train)\n",
    "\n",
    "    loss = F.softmax_cross_entropy(prediction_train, target_train)\n",
    "    train_losses.append(loss.data)\n",
    "\n",
    "    model.cleargrads()\n",
    "    loss.backward()\n",
    "\n",
    "    optimizer.update()\n",
    "    if train_iter.is_new_epoch:\n",
    "\n",
    "        test_losses = []\n",
    "        test_accuracies = []\n",
    "        while True:\n",
    "            test_batch = test_iter.next()\n",
    "            image_test, target_test = concat_examples(test_batch) \n",
    "\n",
    "            prediction_test = model(image_test)\n",
    "\n",
    "            loss_test = F.softmax_cross_entropy(prediction_test, target_test)\n",
    "            test_losses.append(to_cpu(loss_test.data))\n",
    "\n",
    "            accuracy = F.accuracy(prediction_test, target_test)\n",
    "            accuracy.to_cpu()\n",
    "            test_accuracies.append(accuracy.data)\n",
    "\n",
    "            if test_iter.is_new_epoch:\n",
    "                test_iter.epoch = 0\n",
    "                test_iter.current_position = 0\n",
    "                test_iter.is_new_epoch = False\n",
    "                test_iter._pushed_position = None\n",
    "                break\n",
    "\n",
    "        mean_acc.append(np.mean(test_accuracies))\n",
    "        mean_test_loss.append(np.mean(test_losses))\n",
    "        mean_train_loss.append(np.mean(train_losses))\n",
    "        train_losses = []\n",
    "\n",
    "plt.xlabel('nr of epochs')\n",
    "plt.ylabel('loss')\n",
    "epochs = range(0,np.size(mean_acc))\n",
    "plt.plot(epochs,mean_train_loss,\n",
    "         label='training loss')\n",
    "plt.plot(epochs,mean_test_loss,\n",
    "         label='test loss')\n",
    "plt.legend(loc='upper right')\n",
    "plt.title('3 Layer MNIST classification results')\n",
    "plt.show()"
   ]
  },
  {
   "cell_type": "code",
   "execution_count": 218,
   "metadata": {
    "collapsed": true
   },
   "outputs": [],
   "source": [
    "class Conv(Chain):\n",
    "    def __init__(self, n_out):\n",
    "        super(Conv, self).__init__()\n",
    "        with self.init_scope():\n",
    "            self.conv = L.Convolution2D(\n",
    "                in_channels=1, out_channels=5, ksize=5, stride=1, pad=0)\n",
    "            self.fc = L.Linear(None, n_out)\n",
    "\n",
    "    def __call__(self, x):\n",
    "        h = F.sigmoid(self.conv(x))\n",
    "        h = F.max_pooling_2d(h, 2, 2)\n",
    "        if chainer.config.train:\n",
    "            return self.fc(h)\n",
    "        return F.softmax(self.fc(h))"
   ]
  },
  {
   "cell_type": "code",
   "execution_count": 219,
   "metadata": {
    "collapsed": false
   },
   "outputs": [],
   "source": [
    "model = Conv(n_out=10)\n",
    "optimizer = optimizers.SGD()\n",
    "optimizer.setup(model)\n",
    "\n",
    "max_epoch = 20\n",
    "batchsize = 32\n",
    "\n",
    "train, test = utils.get_mnist(n_train=100, n_test=100, n_dim=2)\n",
    "train_iter = iterators.SerialIterator(train, batchsize)\n",
    "test_iter = iterators.SerialIterator(test, batchsize, repeat=False, shuffle=False)\n",
    "mean_acc = []\n",
    "mean_test_loss = []\n",
    "mean_train_loss = []\n",
    "train_losses = []"
   ]
  },
  {
   "cell_type": "code",
   "execution_count": 220,
   "metadata": {
    "collapsed": false
   },
   "outputs": [],
   "source": [
    "while train_iter.epoch < max_epoch:\n",
    "\n",
    "    train_batch = train_iter.next()\n",
    "    image_train, target_train = concat_examples(train_batch)\n",
    "    #batch conversion function to change batch into image and target arrays suitable for the network\n",
    "    image_train = np.expand_dims(image_train, axis=1)\n",
    "    prediction_train = model(image_train)\n",
    "\n",
    "    loss = F.softmax_cross_entropy(prediction_train, target_train)\n",
    "    train_losses.append(loss.data)\n",
    "\n",
    "    model.cleargrads() #renew gradient calculations\n",
    "    loss.backward() #runs error backpropagation\n",
    "\n",
    "    optimizer.update() #update variables\n",
    "    if train_iter.is_new_epoch:\n",
    "\n",
    "        test_losses = []\n",
    "        test_accuracies = []\n",
    "        while True:\n",
    "            test_batch = test_iter.next()\n",
    "            image_test, target_test = concat_examples(test_batch) \n",
    "            image_test = np.expand_dims(image_test, axis=1)\n",
    "            prediction_test = model(image_test)\n",
    "\n",
    "            loss_test = F.softmax_cross_entropy(prediction_test, target_test)\n",
    "            test_losses.append(to_cpu(loss_test.data))\n",
    "\n",
    "            accuracy = F.accuracy(prediction_test, target_test)\n",
    "            accuracy.to_cpu()\n",
    "            test_accuracies.append(accuracy.data)\n",
    "\n",
    "            if test_iter.is_new_epoch:\n",
    "                test_iter.epoch = 0\n",
    "                test_iter.current_position = 0\n",
    "                test_iter.is_new_epoch = False\n",
    "                test_iter._pushed_position = None\n",
    "                break\n",
    "                #get out of test loop if test epoch completed\n",
    "\n",
    "        mean_acc.append(np.mean(test_accuracies))\n",
    "        mean_test_loss.append(np.mean(test_losses))\n",
    "        mean_train_loss.append(np.mean(train_losses))\n",
    "        #track mean losses for visualization later\n",
    "        train_losses = []"
   ]
  },
  {
   "cell_type": "code",
   "execution_count": 221,
   "metadata": {
    "collapsed": false
   },
   "outputs": [
    {
     "data": {
      "image/png": "[encoded data removed]",
      "text/plain": [
       "<matplotlib.figure.Figure at 0x1c90d1c25f8>"
      ]
     },
     "metadata": {},
     "output_type": "display_data"
    }
   ],
   "source": [
    "#visualize results for training and test loss values over the epochs\n",
    "plt.xlabel('nr of epochs')\n",
    "plt.ylabel('loss')\n",
    "epochs = range(0,np.size(mean_acc))\n",
    "plt.plot(epochs,mean_train_loss,\n",
    "         label='training loss')\n",
    "plt.plot(epochs,mean_test_loss,\n",
    "         label='test loss')\n",
    "plt.legend(loc='upper right')\n",
    "plt.title('CNN MNIST classification results')\n",
    "plt.show()"
   ]
  },
  {
   "cell_type": "code",
   "execution_count": 222,
   "metadata": {
    "collapsed": false
   },
   "outputs": [
    {
     "data": {
      "image/png": "[encoded data removed]",
      "text/plain": [
       "<matplotlib.figure.Figure at 0x1c90d23e5f8>"
      ]
     },
     "metadata": {},
     "output_type": "display_data"
    },
    {
     "name": "stdout",
     "output_type": "stream",
     "text": [
      "label: 8\n",
      "predicted label: 3\n"
     ]
    }
   ],
   "source": [
    "#visualize first digit from test set\n",
    "x, t = test[802]\n",
    "plt.imshow(x.reshape(28, 28), cmap='gray')\n",
    "plt.show()\n",
    "print('label:', t)\n",
    "x = x[None, ...]\n",
    "x = np.expand_dims(x, axis=1)\n",
    "y = model(x)\n",
    "y = y.data\n",
    "\n",
    "pred_label = y.argmax(axis=1)\n",
    "print('predicted label:', pred_label[0])"
   ]
  },
  {
   "cell_type": "code",
   "execution_count": 223,
   "metadata": {
    "collapsed": false
   },
   "outputs": [
    {
     "name": "stdout",
     "output_type": "stream",
     "text": [
      "[0.12304688, 0.17480469, 0.22363281, 0.22070313, 0.19433594, 0.30957031, 0.35742188, 0.27539063, 0.49902344, 0.53515625, 0.59570313, 0.56835938, 0.65625, 0.56738281, 0.6171875, 0.65722656, 0.63964844, 0.70117188, 0.671875, 0.66894531]\n"
     ]
    }
   ],
   "source": [
    "print(mean_acc)"
   ]
  },
  {
   "cell_type": "code",
   "execution_count": 242,
   "metadata": {
    "collapsed": false
   },
   "outputs": [],
   "source": [
    "class Conv2(Chain):\n",
    "    def __init__(self, n_out):\n",
    "        super(Conv2, self).__init__()\n",
    "        with self.init_scope():\n",
    "            self.conv = L.Convolution2D(\n",
    "                in_channels=1, out_channels=5, ksize=5, stride=1, pad=0)\n",
    "            self.fc1 = L.SimplifiedDropconnect(None, n_out, ratio=0.1)\n",
    "\n",
    "    def __call__(self, x):\n",
    "        h = F.relu(self.conv(x))\n",
    "        h = F.max_pooling_2d(h, 2, 2)\n",
    "        if chainer.config.train:\n",
    "            return F.relu(self.fc1(h))\n",
    "        return F.softmax(self.fc(h))"
   ]
  },
  {
   "cell_type": "code",
   "execution_count": 243,
   "metadata": {
    "collapsed": false
   },
   "outputs": [],
   "source": [
    "model = Conv2(n_out=10)\n",
    "optimizer = optimizers.SGD()\n",
    "optimizer.setup(model)\n",
    "\n",
    "max_epoch = 20\n",
    "batchsize = 32\n",
    "\n",
    "train, test = utils.get_mnist(n_train=100, n_test=100, n_dim=2)\n",
    "train_iter = iterators.SerialIterator(train, batchsize)\n",
    "test_iter = iterators.SerialIterator(test, batchsize, repeat=False, shuffle=False)\n",
    "mean_acc = []\n",
    "mean_test_loss = []\n",
    "mean_train_loss = []\n",
    "train_losses = []\n",
    "\n",
    "while train_iter.epoch < max_epoch:\n",
    "\n",
    "    train_batch = train_iter.next()\n",
    "    image_train, target_train = concat_examples(train_batch)\n",
    "    #batch conversion function to change batch into image and target arrays suitable for the network\n",
    "    image_train = np.expand_dims(image_train, axis=1)\n",
    "    prediction_train = model(image_train)\n",
    "\n",
    "    loss = F.softmax_cross_entropy(prediction_train, target_train)\n",
    "    train_losses.append(loss.data)\n",
    "\n",
    "    model.cleargrads() #renew gradient calculations\n",
    "    loss.backward() #runs error backpropagation\n",
    "\n",
    "    optimizer.update() #update variables\n",
    "    if train_iter.is_new_epoch:\n",
    "\n",
    "        test_losses = []\n",
    "        test_accuracies = []\n",
    "        while True:\n",
    "            test_batch = test_iter.next()\n",
    "            image_test, target_test = concat_examples(test_batch) \n",
    "            image_test = np.expand_dims(image_test, axis=1)\n",
    "            prediction_test = model(image_test)\n",
    "\n",
    "            loss_test = F.softmax_cross_entropy(prediction_test, target_test)\n",
    "            test_losses.append(to_cpu(loss_test.data))\n",
    "\n",
    "            accuracy = F.accuracy(prediction_test, target_test)\n",
    "            accuracy.to_cpu()\n",
    "            test_accuracies.append(accuracy.data)\n",
    "\n",
    "            if test_iter.is_new_epoch:\n",
    "                test_iter.epoch = 0\n",
    "                test_iter.current_position = 0\n",
    "                test_iter.is_new_epoch = False\n",
    "                test_iter._pushed_position = None\n",
    "                break\n",
    "                #get out of test loop if test epoch completed\n",
    "\n",
    "        mean_acc.append(np.mean(test_accuracies))\n",
    "        mean_test_loss.append(np.mean(test_losses))\n",
    "        mean_train_loss.append(np.mean(train_losses))\n",
    "        #track mean losses for visualization later\n",
    "        train_losses = []"
   ]
  },
  {
   "cell_type": "code",
   "execution_count": 244,
   "metadata": {
    "collapsed": false
   },
   "outputs": [
    {
     "data": {
      "image/png": "[encoded data removed]",
      "text/plain": [
       "<matplotlib.figure.Figure at 0x1c90da9fc50>"
      ]
     },
     "metadata": {},
     "output_type": "display_data"
    }
   ],
   "source": [
    "#visualize results for training and test loss values over the epochs\n",
    "plt.xlabel('nr of epochs')\n",
    "plt.ylabel('loss')\n",
    "epochs = range(0,np.size(mean_acc))\n",
    "plt.plot(epochs,mean_train_loss,\n",
    "         label='training loss')\n",
    "plt.plot(epochs,mean_test_loss,\n",
    "         label='test loss')\n",
    "plt.legend(loc='upper right')\n",
    "plt.title('MLP MNIST classification results')\n",
    "plt.show()"
   ]
  },
  {
   "cell_type": "code",
   "execution_count": 245,
   "metadata": {
    "collapsed": false
   },
   "outputs": [
    {
     "data": {
      "image/png": "[encoded data removed]",
      "text/plain": [
       "<matplotlib.figure.Figure at 0x1c90e36d390>"
      ]
     },
     "metadata": {},
     "output_type": "display_data"
    },
    {
     "name": "stdout",
     "output_type": "stream",
     "text": [
      "label: 2\n",
      "predicted label: 2\n"
     ]
    }
   ],
   "source": [
    "#visualize first digit from test set\n",
    "x, t = test[200]\n",
    "plt.imshow(x.reshape(28, 28), cmap='gray')\n",
    "plt.show()\n",
    "print('label:', t)\n",
    "x = x[None, ...]\n",
    "x = np.expand_dims(x, axis=1)\n",
    "y = model(x)\n",
    "y = y.data\n",
    "\n",
    "pred_label = y.argmax(axis=1)\n",
    "print('predicted label:', pred_label[0])"
   ]
  },
  {
   "cell_type": "code",
   "execution_count": 246,
   "metadata": {
    "collapsed": false
   },
   "outputs": [
    {
     "name": "stdout",
     "output_type": "stream",
     "text": [
      "[0.17089844, 0.22167969, 0.29003906, 0.38378906, 0.4453125, 0.53027344, 0.60449219, 0.65429688, 0.67773438, 0.66796875, 0.69042969, 0.72363281, 0.77539063, 0.79492188, 0.80273438, 0.79589844, 0.79785156, 0.79492188, 0.80664063, 0.82519531]\n"
     ]
    }
   ],
   "source": [
    "print(mean_acc)"
   ]
  },
  {
   "cell_type": "code",
   "execution_count": null,
   "metadata": {
    "collapsed": true
   },
   "outputs": [],
   "source": []
  }
 ],
 "metadata": {
  "kernelspec": {
   "display_name": "Python 3",
   "language": "python",
   "name": "python3"
  },
  "language_info": {
   "codemirror_mode": {
    "name": "ipython",
    "version": 3
   },
   "file_extension": ".py",
   "mimetype": "text/x-python",
   "name": "python",
   "nbconvert_exporter": "python",
   "pygments_lexer": "ipython3",
   "version": "3.6.0"
  }
 },
 "nbformat": 4,
 "nbformat_minor": 2
}
