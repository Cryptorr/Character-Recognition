{
 "cells": [
  {
   "cell_type": "code",
   "execution_count": 1,
   "metadata": {
    "collapsed": true
   },
   "outputs": [],
   "source": [
    "import numpy as np\n",
    "import matplotlib.pyplot as plt\n",
    "import chainer\n",
    "from chainer import cuda, Function, gradient_check, report, training, utils, Variable\n",
    "from chainer import datasets, iterators, optimizers, serializers\n",
    "from chainer import Link, Chain, ChainList\n",
    "from chainer.dataset import concat_examples\n",
    "import chainer.functions as F\n",
    "import chainer.links as L\n",
    "import utils"
   ]
  },
  {
   "cell_type": "code",
   "execution_count": 2,
   "metadata": {},
   "outputs": [],
   "source": [
    "train_data, test_data = utils.get_mnist(n_train=100, with_label=False, classes = [0], n_dim=2)"
   ]
  },
  {
   "cell_type": "code",
   "execution_count": 3,
   "metadata": {
    "collapsed": true
   },
   "outputs": [],
   "source": [
    "class Discriminator(Chain):\n",
    "    def __init__(self, n_out=1):\n",
    "        super(Discriminator, self).__init__()\n",
    "        with self.init_scope():\n",
    "            self.conv = L.Convolution2D(\n",
    "                in_channels=1, out_channels=5, ksize=5, stride=1, pad=0)\n",
    "            self.fc = L.Linear(None, n_out)\n",
    "\n",
    "    def __call__(self, x):\n",
    "        h = F.relu(self.conv(x))\n",
    "        if chainer.config.train:\n",
    "            return self.fc(h)\n",
    "        return F.softmax(self.fc(h))"
   ]
  },
  {
   "cell_type": "code",
   "execution_count": 4,
   "metadata": {},
   "outputs": [],
   "source": [
    "class Generator(chainer.Chain):\n",
    "\n",
    "    def __init__(self, n_hidden=100, bottom_width=24, ch=512):\n",
    "        super(Generator, self).__init__()\n",
    "        self.n_hidden = n_hidden\n",
    "        self.ch = ch\n",
    "        self.bottom_width = bottom_width\n",
    "\n",
    "        with self.init_scope():\n",
    "            self.l0 = L.Linear(self.n_hidden, bottom_width * bottom_width * ch)\n",
    "            self.dc0 = L.Deconvolution2D(in_channels=ch, out_channels=1, ksize=5, stride=1, pad=0)\n",
    "            self.bn0 = L.BatchNormalization(bottom_width * bottom_width * ch)\n",
    "\n",
    "    def make_hidden(self, batchsize):\n",
    "        return np.random.uniform(-1, 1, (batchsize, self.n_hidden, 1, 1)).astype(np.float32)\n",
    "\n",
    "    def __call__(self, x):\n",
    "        h = F.reshape(F.relu(self.bn0(self.l0(x))),\n",
    "                      (len(x), self.ch, self.bottom_width, self.bottom_width))\n",
    "        y = F.sigmoid(self.dc0(h))\n",
    "        return y"
   ]
  },
  {
   "cell_type": "code",
   "execution_count": 5,
   "metadata": {},
   "outputs": [],
   "source": [
    "gen = Generator()\n",
    "gen_optimizer = optimizers.SGD()\n",
    "gen_optimizer.setup(gen)\n",
    "\n",
    "dis = Discriminator()\n",
    "dis_optimizer = optimizers.SGD()\n",
    "dis_optimizer.setup(dis)"
   ]
  },
  {
   "cell_type": "code",
   "execution_count": 6,
   "metadata": {},
   "outputs": [
    {
     "name": "stdout",
     "output_type": "stream",
     "text": [
      "1\n",
      "2\n",
      "3\n",
      "4\n",
      "5\n",
      "6\n",
      "7\n",
      "8\n",
      "9\n",
      "10\n",
      "11\n",
      "12\n",
      "13\n",
      "14\n",
      "15\n",
      "16\n",
      "17\n",
      "18\n",
      "19\n",
      "20\n"
     ]
    }
   ],
   "source": [
    "batchsize = 50\n",
    "max_epoch = 20\n",
    "train_iter = iterators.SerialIterator(train_data, batchsize)\n",
    "while train_iter.epoch < max_epoch:\n",
    "\n",
    "    real_train = concat_examples(train_iter.next())\n",
    "    real_train = np.expand_dims(real_train, axis=1)\n",
    "    fake_train = gen(gen.make_hidden(batchsize))\n",
    "    \n",
    "    y_real = dis(real_train)\n",
    "    y_fake = dis(fake_train)\n",
    "    \n",
    "    L1 = F.sum(F.softplus(-y_real)) / batchsize\n",
    "    L2 = F.sum(F.softplus(y_fake)) / batchsize\n",
    "    dis_loss = L1 + L2\n",
    "    gen_loss = F.sum(F.softplus(-y_fake)) / batchsize\n",
    "    \n",
    "    gen.cleargrads()\n",
    "    dis.cleargrads()\n",
    "    dis_loss.backward()\n",
    "    gen_loss.backward()\n",
    "    gen_optimizer.update()\n",
    "    dis_optimizer.update()\n",
    "    \n",
    "    if train_iter.is_new_epoch:\n",
    "        print(train_iter.epoch)"
   ]
  },
  {
   "cell_type": "code",
   "execution_count": 14,
   "metadata": {},
   "outputs": [
    {
     "data": {
      "image/png": "[encoded data removed]",
      "text/plain": [
       "<matplotlib.figure.Figure at 0x7f437baa6e80>"
      ]
     },
     "metadata": {},
     "output_type": "display_data"
    }
   ],
   "source": [
    "x = gen(gen.make_hidden(1)).data\n",
    "plt.imshow(x.reshape(28, 28), cmap='gray')\n",
    "plt.show()"
   ]
  },
  {
   "cell_type": "code",
   "execution_count": null,
   "metadata": {
    "collapsed": true
   },
   "outputs": [],
   "source": []
  }
 ],
 "metadata": {
  "kernelspec": {
   "display_name": "Python 3",
   "language": "python",
   "name": "python3"
  },
  "language_info": {
   "codemirror_mode": {
    "name": "ipython",
    "version": 3
   },
   "file_extension": ".py",
   "mimetype": "text/x-python",
   "name": "python",
   "nbconvert_exporter": "python",
   "pygments_lexer": "ipython3",
   "version": "3.6.2"
  }
 },
 "nbformat": 4,
 "nbformat_minor": 2
}
